{
  "nbformat": 4,
  "nbformat_minor": 0,
  "metadata": {
    "colab": {
      "provenance": [],
      "authorship_tag": "ABX9TyPUt4LhO5o2d4SBPF+HDhdv",
      "include_colab_link": true
    },
    "kernelspec": {
      "name": "python3",
      "display_name": "Python 3"
    },
    "language_info": {
      "name": "python"
    }
  },
  "cells": [
    {
      "cell_type": "markdown",
      "metadata": {
        "id": "view-in-github",
        "colab_type": "text"
      },
      "source": [
        "<a href=\"https://colab.research.google.com/github/krisdanner/Aquisi-o-e-Plotagem-de-Dados-GEO/blob/main/Aquisi%C3%A7%C3%A3o_e_Plotagem_de_Dados_GEO.ipynb\" target=\"_parent\"><img src=\"https://colab.research.google.com/assets/colab-badge.svg\" alt=\"Open In Colab\"/></a>"
      ]
    },
    {
      "cell_type": "code",
      "metadata": {
        "id": "i3aKsDGMwWpq"
      },
      "source": [
        "import json\n",
        "import requests\n",
        "import pandas as pd\n",
        "import numpy as np\n",
        "import openpyxl\n",
        "import math\n",
        "import matplotlib.pyplot as plt\n",
        "from mpl_toolkits.mplot3d import Axes3D\n",
        "import datetime\n",
        "\n",
        "url = 'https://data-live.flightradar24.com/zones/fcgi/feed.js?faa=1&bounds=0.977%2C-5.651%2C-57.118%2C-27.104&satellite=1&mlat=1&flarm=1&adsb=1&gnd=1&air=1&vehicles=1&estimated=1&maxage=14400&gliders=1&stats=1'\n",
        "\n",
        "headers = {'user-agent': 'Mozilla/5.0 (Windows NT 10.0; Win64; x64) AppleWebKit/537.36 (KHTML, like Gecko) Chrome/89.0.4389.128 Safari/537.36'}\n",
        "\n",
        "r = requests.get(url, headers=headers)\n",
        "data = json.loads(r.content)\n",
        "\n",
        "codigo = []\n",
        "aviao = []\n",
        "dados = []\n",
        "\n",
        "\n",
        "for x in data:\n",
        "    codigo.append(x)\n",
        "\n",
        "del codigo[0], codigo[0]\n",
        "codigo.pop()\n",
        "\n",
        "for x in codigo:\n",
        "    dados.append(round((data[x][4])*0.3048, 2))\n",
        "    dados.append(data[x][1])\n",
        "    dados.append(data[x][2])\n",
        "    aviao.append(data[x][16])\n",
        "\n",
        "col = 'Altitude Latitude Longitude'.split()\n",
        "lin = aviao\n",
        "dados_1 = np.array(dados).reshape(len(aviao), 3)\n",
        "dataf = pd.DataFrame(data=dados_1, index=lin, columns=col)\n",
        "print(dataf)\n",
        "print(datetime)\n",
        "\n",
        "pos = int(input('Digite a posição da aeronave: '))\n",
        "qtd = int(input('Digite quantos dados de posição deseja obter: '))\n",
        "\n",
        "t = 0\n",
        "dados2 = []\n",
        "while t < qtd:\n",
        "    r = requests.get(url, headers=headers)\n",
        "    data = json.loads(r.content)\n",
        "\n",
        "    dados2.append(round((data[codigo[pos]][4]) * 0.3048, 2))\n",
        "    dados2.append(data[codigo[pos]][1])\n",
        "    dados2.append(data[codigo[pos]][2])\n",
        "\n",
        "    print(round(100 * t / qtd, 2),'%')\n",
        "    t += 1\n",
        "\n",
        "col = 'Altitude Latitude Longitude'.split()\n",
        "dados_1 = np.array(dados2).reshape(qtd, 3)\n",
        "dataf = pd.DataFrame(data=dados_1, columns=col)\n",
        "print(dataf)\n",
        "\n",
        "dataf.to_excel('Dados_de_localização_GEO.xlsx')\n",
        "\n",
        "figura = plt.figure(figsize=(12,8))\n",
        "grafico = figura.gca(projection='3d')\n",
        "grafico.plot(dataf['Longitude'], dataf['Latitude'], dataf['Altitude'], color='red')\n",
        "plt.xlabel('LONGITUDE', color='blue', fontsize='10')\n",
        "plt.ylabel('LATITUDE', color='blue', fontsize='10')\n",
        "plt.title('Voo Aeronave '+aviao[pos], fontsize=20)\n",
        "plt.show()\n",
        "\n"
      ],
      "execution_count": null,
      "outputs": []
    }
  ]
}